{
 "cells": [
  {
   "cell_type": "code",
   "execution_count": null,
   "id": "78467f11",
   "metadata": {},
   "outputs": [],
   "source": [
    "import speech_recognition as sr"
   ]
  },
  {
   "cell_type": "code",
   "execution_count": null,
   "id": "b1db0ece",
   "metadata": {},
   "outputs": [],
   "source": [
    "recognizer = sr.Recognizer()\n",
    "microphone = sr.Microphone()"
   ]
  },
  {
   "cell_type": "code",
   "execution_count": null,
   "id": "1be4143e",
   "metadata": {},
   "outputs": [],
   "source": [
    "# Read audio from file\n",
    "audioFile = (\"hello.wav\")\n",
    "helloAudio = sr.AudioFile(audioFile)\n",
    "\n",
    "with helloAudio as source:\n",
    "    audio = recognizer.record(source)\n",
    "\n",
    "# To text\n",
    "recognizer.recognize_google(audio)"
   ]
  },
  {
   "cell_type": "code",
   "execution_count": null,
   "id": "cf16e58f",
   "metadata": {},
   "outputs": [],
   "source": [
    "# Read audio from microphone\n",
    "with microphone as source:\n",
    "    recognizer.adjust_for_ambient_noise(source)\n",
    "    print(\"Please Say something:\")\n",
    "    audio = recognizer.listen(source)\n",
    "    \n",
    "try:\n",
    "    print(\"You said: \\n\" + recognizer.recognize_google(audio))\n",
    "except Exception as e:\n",
    "    print(\"Something went wrong\")"
   ]
  }
 ],
 "metadata": {
  "kernelspec": {
   "display_name": "Python 3",
   "language": "python",
   "name": "python3"
  },
  "language_info": {
   "codemirror_mode": {
    "name": "ipython",
    "version": 3
   },
   "file_extension": ".py",
   "mimetype": "text/x-python",
   "name": "python",
   "nbconvert_exporter": "python",
   "pygments_lexer": "ipython3",
   "version": "3.8.8"
  }
 },
 "nbformat": 4,
 "nbformat_minor": 5
}
